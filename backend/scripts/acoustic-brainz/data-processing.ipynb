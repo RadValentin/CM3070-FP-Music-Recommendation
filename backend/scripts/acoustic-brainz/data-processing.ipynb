{
 "cells": [
  {
   "cell_type": "markdown",
   "id": "aa87ef0e",
   "metadata": {},
   "source": [
    "# AcousticBrainz High-Level Sample Data Processing for Music Recommendation System\n",
    "\n",
    "## Goals\n",
    "- [x] Iterate through all track files in the high-level sample\n",
    "- [x] Extract MusicBrainz ID, metadata, audio features to a dict\n",
    "- [ ] Map the dict to SQL (we'll add Django ORM later)\n",
    "\n",
    "> The code assumes you have downloaded the AcousticBrainz DB dumps in the same directory, under `acousticbrainz-highlevel-sample-json-20220623-0/highlevel/`. They can be downloaded from here: https://acousticbrainz.org/download"
   ]
  },
  {
   "cell_type": "code",
   "execution_count": 12,
   "id": "3c56fb1d",
   "metadata": {},
   "outputs": [],
   "source": [
    "import os\n",
    "import sys\n",
    "import json\n",
    "import django\n",
    "import time\n",
    "from pprint import pprint\n",
    "\n",
    "sys.path.append(os.path.dirname(os.path.dirname(os.path.abspath(os.getcwd()))))\n",
    "os.environ.setdefault(\"DJANGO_SETTINGS_MODULE\", \"music_recommendation.settings\")\n",
    "django.setup()\n",
    "\n",
    "from recommend_api.models import Track"
   ]
  },
  {
   "cell_type": "code",
   "execution_count": 13,
   "id": "e6f57b41",
   "metadata": {},
   "outputs": [],
   "source": [
    "def extract_data_from_json(filepath):\n",
    "    \"\"\"\n",
    "    Returns a dict with values for corresponding audio features from the AcousticBrainz dataset.\n",
    "    \"\"\"\n",
    "    with open(filepath, 'r') as f:\n",
    "        try:\n",
    "            data = json.load(f)\n",
    "        except json.JSONDecodeError:\n",
    "            print(\"Bad JSON:\", filepath)\n",
    "            return None\n",
    "\n",
    "        highlevel = data.get('highlevel') or {}\n",
    "        metadata = data.get('metadata') or {}\n",
    "        tags = metadata.get('tags') or {}\n",
    "\n",
    "        return {\n",
    "            # metadata\n",
    "            \"artist\":tags.get('artist', [None])[0],\n",
    "            \"album\":tags.get('album', [None])[0],\n",
    "            \"title\":tags.get('title', [None])[0],\n",
    "            \"release_date\":tags.get('originaldate', [None])[0],\n",
    "            \"duration\": metadata.get('audio_properties', {}).get('length', None),\n",
    "\n",
    "            # high level features\n",
    "            \"genre\":  highlevel.get('genre_dortmund', {}).get('value', None),\n",
    "            \"danceability\":  highlevel.get('danceability', {}).get('all', {}).get('danceable', None),\n",
    "            \"aggressiveness\": highlevel.get('mood_aggressive', {}).get('all', {}).get('aggressive', None),\n",
    "            \"happiness\": highlevel.get('mood_happy', {}).get('all', {}).get('happy', None),\n",
    "            \"sadness\": highlevel.get('mood_sad', {}).get('all', {}).get('sad', None),\n",
    "            \"relaxedness\": highlevel.get('mood_relaxed', {}).get('all', {}).get('relaxed', None),\n",
    "            \"partyness\": highlevel.get('mood_party', {}).get('all', {}).get('party', None),\n",
    "            \"acousticness\": highlevel.get('mood_acoustic', {}).get('all', {}).get('acoustic', None),\n",
    "            \"electronicness\": highlevel.get('mood_electronic', {}).get('all', {}).get('electronic', None),\n",
    "            \"instrumentalness\": highlevel.get('voice_instrumental', {}).get('all', {}).get('instrumental', None),\n",
    "            \"tonality\": highlevel.get('tonal_atonal', {}).get('all', {}).get('tonal', None),\n",
    "            \"brightness\": highlevel.get('timbre', {}).get('all', {}).get('bright', None),\n",
    "        }"
   ]
  },
  {
   "cell_type": "code",
   "execution_count": 14,
   "id": "2d900753",
   "metadata": {},
   "outputs": [
    {
     "ename": "SynchronousOnlyOperation",
     "evalue": "You cannot call this from an async context - use a thread or sync_to_async.",
     "output_type": "error",
     "traceback": [
      "\u001b[31m---------------------------------------------------------------------------\u001b[39m",
      "\u001b[31mSynchronousOnlyOperation\u001b[39m                  Traceback (most recent call last)",
      "\u001b[36mCell\u001b[39m\u001b[36m \u001b[39m\u001b[32mIn[14]\u001b[39m\u001b[32m, line 14\u001b[39m\n\u001b[32m     11\u001b[39m     \u001b[38;5;28;01mfor\u001b[39;00m name \u001b[38;5;129;01min\u001b[39;00m files:\n\u001b[32m     12\u001b[39m         json_paths.append(os.path.join(root, name))\n\u001b[32m---> \u001b[39m\u001b[32m14\u001b[39m \u001b[43mTrack\u001b[49m\u001b[43m.\u001b[49m\u001b[43mobjects\u001b[49m\u001b[43m.\u001b[49m\u001b[43mall\u001b[49m\u001b[43m(\u001b[49m\u001b[43m)\u001b[49m\u001b[43m.\u001b[49m\u001b[43mdelete\u001b[49m\u001b[43m(\u001b[49m\u001b[43m)\u001b[49m\n",
      "\u001b[36mFile \u001b[39m\u001b[32mc:\\Users\\valen\\.virtualenvs\\fp\\Lib\\site-packages\\django\\db\\models\\query.py:1199\u001b[39m, in \u001b[36mQuerySet.delete\u001b[39m\u001b[34m(self)\u001b[39m\n\u001b[32m   1197\u001b[39m collector = Collector(using=del_query.db, origin=\u001b[38;5;28mself\u001b[39m)\n\u001b[32m   1198\u001b[39m collector.collect(del_query)\n\u001b[32m-> \u001b[39m\u001b[32m1199\u001b[39m num_deleted, num_deleted_per_model = \u001b[43mcollector\u001b[49m\u001b[43m.\u001b[49m\u001b[43mdelete\u001b[49m\u001b[43m(\u001b[49m\u001b[43m)\u001b[49m\n\u001b[32m   1201\u001b[39m \u001b[38;5;66;03m# Clear the result cache, in case this QuerySet gets reused.\u001b[39;00m\n\u001b[32m   1202\u001b[39m \u001b[38;5;28mself\u001b[39m._result_cache = \u001b[38;5;28;01mNone\u001b[39;00m\n",
      "\u001b[36mFile \u001b[39m\u001b[32mc:\\Users\\valen\\.virtualenvs\\fp\\Lib\\site-packages\\django\\db\\models\\deletion.py:454\u001b[39m, in \u001b[36mCollector.delete\u001b[39m\u001b[34m(self)\u001b[39m\n\u001b[32m    451\u001b[39m         \u001b[38;5;28msetattr\u001b[39m(instance, model._meta.pk.attname, \u001b[38;5;28;01mNone\u001b[39;00m)\n\u001b[32m    452\u001b[39m         \u001b[38;5;28;01mreturn\u001b[39;00m count, {model._meta.label: count}\n\u001b[32m--> \u001b[39m\u001b[32m454\u001b[39m \u001b[43m\u001b[49m\u001b[38;5;28;43;01mwith\u001b[39;49;00m\u001b[43m \u001b[49m\u001b[43mtransaction\u001b[49m\u001b[43m.\u001b[49m\u001b[43matomic\u001b[49m\u001b[43m(\u001b[49m\u001b[43musing\u001b[49m\u001b[43m=\u001b[49m\u001b[38;5;28;43mself\u001b[39;49m\u001b[43m.\u001b[49m\u001b[43musing\u001b[49m\u001b[43m,\u001b[49m\u001b[43m \u001b[49m\u001b[43msavepoint\u001b[49m\u001b[43m=\u001b[49m\u001b[38;5;28;43;01mFalse\u001b[39;49;00m\u001b[43m)\u001b[49m\u001b[43m:\u001b[49m\n\u001b[32m    455\u001b[39m \u001b[43m    \u001b[49m\u001b[38;5;66;43;03m# send pre_delete signals\u001b[39;49;00m\n\u001b[32m    456\u001b[39m \u001b[43m    \u001b[49m\u001b[38;5;28;43;01mfor\u001b[39;49;00m\u001b[43m \u001b[49m\u001b[43mmodel\u001b[49m\u001b[43m,\u001b[49m\u001b[43m \u001b[49m\u001b[43mobj\u001b[49m\u001b[43m \u001b[49m\u001b[38;5;129;43;01min\u001b[39;49;00m\u001b[43m \u001b[49m\u001b[38;5;28;43mself\u001b[39;49m\u001b[43m.\u001b[49m\u001b[43minstances_with_model\u001b[49m\u001b[43m(\u001b[49m\u001b[43m)\u001b[49m\u001b[43m:\u001b[49m\n\u001b[32m    457\u001b[39m \u001b[43m        \u001b[49m\u001b[38;5;28;43;01mif\u001b[39;49;00m\u001b[43m \u001b[49m\u001b[38;5;129;43;01mnot\u001b[39;49;00m\u001b[43m \u001b[49m\u001b[43mmodel\u001b[49m\u001b[43m.\u001b[49m\u001b[43m_meta\u001b[49m\u001b[43m.\u001b[49m\u001b[43mauto_created\u001b[49m\u001b[43m:\u001b[49m\n",
      "\u001b[36mFile \u001b[39m\u001b[32mc:\\Users\\valen\\.virtualenvs\\fp\\Lib\\site-packages\\django\\db\\transaction.py:198\u001b[39m, in \u001b[36mAtomic.__enter__\u001b[39m\u001b[34m(self)\u001b[39m\n\u001b[32m    196\u001b[39m connection.commit_on_exit = \u001b[38;5;28;01mTrue\u001b[39;00m\n\u001b[32m    197\u001b[39m connection.needs_rollback = \u001b[38;5;28;01mFalse\u001b[39;00m\n\u001b[32m--> \u001b[39m\u001b[32m198\u001b[39m \u001b[38;5;28;01mif\u001b[39;00m \u001b[38;5;129;01mnot\u001b[39;00m \u001b[43mconnection\u001b[49m\u001b[43m.\u001b[49m\u001b[43mget_autocommit\u001b[49m\u001b[43m(\u001b[49m\u001b[43m)\u001b[49m:\n\u001b[32m    199\u001b[39m     \u001b[38;5;66;03m# Pretend we're already in an atomic block to bypass the code\u001b[39;00m\n\u001b[32m    200\u001b[39m     \u001b[38;5;66;03m# that disables autocommit to enter a transaction, and make a\u001b[39;00m\n\u001b[32m    201\u001b[39m     \u001b[38;5;66;03m# note to deal with this case in __exit__.\u001b[39;00m\n\u001b[32m    202\u001b[39m     connection.in_atomic_block = \u001b[38;5;28;01mTrue\u001b[39;00m\n\u001b[32m    203\u001b[39m     connection.commit_on_exit = \u001b[38;5;28;01mFalse\u001b[39;00m\n",
      "\u001b[36mFile \u001b[39m\u001b[32mc:\\Users\\valen\\.virtualenvs\\fp\\Lib\\site-packages\\django\\db\\backends\\base\\base.py:454\u001b[39m, in \u001b[36mBaseDatabaseWrapper.get_autocommit\u001b[39m\u001b[34m(self)\u001b[39m\n\u001b[32m    452\u001b[39m \u001b[38;5;28;01mdef\u001b[39;00m\u001b[38;5;250m \u001b[39m\u001b[34mget_autocommit\u001b[39m(\u001b[38;5;28mself\u001b[39m):\n\u001b[32m    453\u001b[39m \u001b[38;5;250m    \u001b[39m\u001b[33;03m\"\"\"Get the autocommit state.\"\"\"\u001b[39;00m\n\u001b[32m--> \u001b[39m\u001b[32m454\u001b[39m     \u001b[38;5;28;43mself\u001b[39;49m\u001b[43m.\u001b[49m\u001b[43mensure_connection\u001b[49m\u001b[43m(\u001b[49m\u001b[43m)\u001b[49m\n\u001b[32m    455\u001b[39m     \u001b[38;5;28;01mreturn\u001b[39;00m \u001b[38;5;28mself\u001b[39m.autocommit\n",
      "\u001b[36mFile \u001b[39m\u001b[32mc:\\Users\\valen\\.virtualenvs\\fp\\Lib\\site-packages\\django\\utils\\asyncio.py:24\u001b[39m, in \u001b[36masync_unsafe.<locals>.decorator.<locals>.inner\u001b[39m\u001b[34m(*args, **kwargs)\u001b[39m\n\u001b[32m     22\u001b[39m \u001b[38;5;28;01melse\u001b[39;00m:\n\u001b[32m     23\u001b[39m     \u001b[38;5;28;01mif\u001b[39;00m \u001b[38;5;129;01mnot\u001b[39;00m os.environ.get(\u001b[33m\"\u001b[39m\u001b[33mDJANGO_ALLOW_ASYNC_UNSAFE\u001b[39m\u001b[33m\"\u001b[39m):\n\u001b[32m---> \u001b[39m\u001b[32m24\u001b[39m         \u001b[38;5;28;01mraise\u001b[39;00m SynchronousOnlyOperation(message)\n\u001b[32m     25\u001b[39m \u001b[38;5;66;03m# Pass onward.\u001b[39;00m\n\u001b[32m     26\u001b[39m \u001b[38;5;28;01mreturn\u001b[39;00m func(*args, **kwargs)\n",
      "\u001b[31mSynchronousOnlyOperation\u001b[39m: You cannot call this from an async context - use a thread or sync_to_async."
     ]
    }
   ],
   "source": [
    "highlevel_path = 'acousticbrainz-highlevel-sample-json-20220623/highlevel/'\n",
    "\n",
    "\n",
    "# test = extract_data_from_json(os.path.join(highlevel_path, '00', '0', '000a9db8-949f-4fa2-9f40-856127df0dbc-0.json'))\n",
    "# pprint(test)\n",
    "\n",
    "json_paths = []\n",
    "\n",
    "# walks through a branch of the directory tree, it will look at all subfolders and files recursively\n",
    "for root, dirs, files in os.walk(highlevel_path):\n",
    "    for name in files:\n",
    "        json_paths.append(os.path.join(root, name))\n",
    "\n",
    "Track.objects.all().delete()\n"
   ]
  },
  {
   "cell_type": "code",
   "execution_count": null,
   "id": "c64861f2",
   "metadata": {},
   "outputs": [],
   "source": [
    "records = []\n",
    "start = time.time()\n",
    "\n",
    "print(f\"Will load {len(json_paths)} records\")\n",
    "\n",
    "for json_path in json_paths:\n",
    "    features = extract_data_from_json(json_path)\n",
    "\n",
    "    if features is None:\n",
    "        continue\n",
    "\n",
    "    records.append(Track(**features))\n",
    "\n",
    "end = time.time()\n",
    "print(f\"Finished loading records into memory in {end - start:.2f}s, now running the ORM inserts.\")\n",
    "\n",
    "start = time.time()\n",
    "\n",
    "batch_size = 1000\n",
    "for i in range(0, len(records), batch_size):\n",
    "    print(str(i) + '/' + str(len(records)) + ' processed')\n",
    "    Track.objects.bulk_create(records[i:i+batch_size])\n",
    "\n",
    "end = time.time()\n",
    "print(f\"Inserted {len(records)} records in {end - start:.2f} seconds\")\n",
    "\n",
    "print(\"DONE\")"
   ]
  }
 ],
 "metadata": {
  "kernelspec": {
   "display_name": "fp",
   "language": "python",
   "name": "python3"
  },
  "language_info": {
   "codemirror_mode": {
    "name": "ipython",
    "version": 3
   },
   "file_extension": ".py",
   "mimetype": "text/x-python",
   "name": "python",
   "nbconvert_exporter": "python",
   "pygments_lexer": "ipython3",
   "version": "3.13.5"
  }
 },
 "nbformat": 4,
 "nbformat_minor": 5
}
