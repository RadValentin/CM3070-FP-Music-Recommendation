{
 "cells": [
  {
   "cell_type": "markdown",
   "id": "3436454b",
   "metadata": {},
   "source": [
    "# Data analysis for AcousticBrainz dataset from the perspective of music recommendation systems"
   ]
  },
  {
   "cell_type": "code",
   "execution_count": null,
   "id": "6e83660b",
   "metadata": {},
   "outputs": [],
   "source": [
    "import os, sys\n",
    "import pandas as pd\n",
    "from pathlib import Path\n",
    "from concurrent.futures import ThreadPoolExecutor\n",
    "from track_processing_helpers import process_file\n",
    "\n",
    "# Create cache dir if needed\n",
    "CACHE = Path(\"cache\"); CACHE.mkdir(exist_ok=True)\n",
    "\n",
    "# Read from cache to prevent costly rebuild\n",
    "if Path(\"cache/tracks.pkl\").exists():\n",
    "    df = pd.read_pickle(\"cache/tracks.pkl\")\n",
    "else:\n",
    "    dataset_path = \"sample/\"\n",
    "    json_paths = []\n",
    "\n",
    "    for root, dirs, files in os.walk(dataset_path):\n",
    "        for name in files:\n",
    "            if name.lower().endswith(\".json\"):\n",
    "                json_paths.append(os.path.join(root, name))\n",
    "            else:\n",
    "                print(f\"Non-JSON file skipped: {name}\")\n",
    "\n",
    "    print(len(json_paths))\n",
    "\n",
    "    #json_paths = json_paths[0:100]\n",
    "\n",
    "    rows = []\n",
    "    with ThreadPoolExecutor(max_workers=8) as executor:\n",
    "        futures = [executor.submit(process_file, path) for path in json_paths]\n",
    "        for future in futures:\n",
    "            result = future.result()\n",
    "            if not result:\n",
    "                continue\n",
    "            \n",
    "            rows.append(result)\n",
    "\n",
    "    df = pd.DataFrame(rows)\n",
    "    df.to_pickle(\"cache/tracks.pkl\")\n",
    "\n",
    "df.drop(['file_path'], axis=1, inplace=True)\n",
    "df.head()"
   ]
  },
  {
   "cell_type": "code",
   "execution_count": null,
   "id": "d2ad5084",
   "metadata": {},
   "outputs": [],
   "source": [
    "df.info()\n",
    "\n",
    "df.describe()"
   ]
  },
  {
   "cell_type": "code",
   "execution_count": null,
   "id": "a5f7ad3e",
   "metadata": {},
   "outputs": [],
   "source": [
    "df.groupby('musicbrainz_recordingid')"
   ]
  }
 ],
 "metadata": {
  "kernelspec": {
   "display_name": "fp",
   "language": "python",
   "name": "python3"
  },
  "language_info": {
   "codemirror_mode": {
    "name": "ipython",
    "version": 3
   },
   "file_extension": ".py",
   "mimetype": "text/x-python",
   "name": "python",
   "nbconvert_exporter": "python",
   "pygments_lexer": "ipython3",
   "version": "3.12.4"
  }
 },
 "nbformat": 4,
 "nbformat_minor": 5
}
